{
 "cells": [
  {
   "cell_type": "code",
   "execution_count": 6,
   "metadata": {},
   "outputs": [],
   "source": [
    "import json\n",
    "import pandas as pd\n",
    "import pickle\n",
    "import nltk\n",
    "from nltk.tokenize import sent_tokenize"
   ]
  },
  {
   "cell_type": "code",
   "execution_count": 7,
   "metadata": {},
   "outputs": [],
   "source": [
    "file_path = 'data/investing경제기사(영어).pkl'"
   ]
  },
  {
   "cell_type": "code",
   "execution_count": 8,
   "metadata": {},
   "outputs": [],
   "source": [
    "with open(file_path, 'rb') as f :\n",
    "    data = pickle.load(f) "
   ]
  },
  {
   "cell_type": "code",
   "execution_count": 15,
   "metadata": {},
   "outputs": [
    {
     "data": {
      "text/html": [
       "<div>\n",
       "<style scoped>\n",
       "    .dataframe tbody tr th:only-of-type {\n",
       "        vertical-align: middle;\n",
       "    }\n",
       "\n",
       "    .dataframe tbody tr th {\n",
       "        vertical-align: top;\n",
       "    }\n",
       "\n",
       "    .dataframe thead th {\n",
       "        text-align: right;\n",
       "    }\n",
       "</style>\n",
       "<table border=\"1\" class=\"dataframe\">\n",
       "  <thead>\n",
       "    <tr style=\"text-align: right;\">\n",
       "      <th></th>\n",
       "      <th>출처</th>\n",
       "      <th>제목</th>\n",
       "      <th>내용</th>\n",
       "    </tr>\n",
       "  </thead>\n",
       "  <tbody>\n",
       "    <tr>\n",
       "      <th>0</th>\n",
       "      <td>Reuters</td>\n",
       "      <td>U.S. Postal Service can't lick inflation, seek...</td>\n",
       "      <td>Surging inflation will prompt the U.S. Postal ...</td>\n",
       "    </tr>\n",
       "    <tr>\n",
       "      <th>1</th>\n",
       "      <td>Reuters</td>\n",
       "      <td>U.S. SEC to propose new rule boosting hedge, p...</td>\n",
       "      <td>The U.S. Securities and Exchange Commission (S...</td>\n",
       "    </tr>\n",
       "    <tr>\n",
       "      <th>2</th>\n",
       "      <td>Reuters</td>\n",
       "      <td>Argentina's central bank likely to raise inter...</td>\n",
       "      <td>Argentina's central bank is likely to raise it...</td>\n",
       "    </tr>\n",
       "    <tr>\n",
       "      <th>3</th>\n",
       "      <td>Reuters</td>\n",
       "      <td>Brazilian broker XP's profit gains from higher...</td>\n",
       "      <td>XP (NASDAQ:XP) Inc posted a marginal jump in s...</td>\n",
       "    </tr>\n",
       "    <tr>\n",
       "      <th>4</th>\n",
       "      <td>Reuters</td>\n",
       "      <td>Foxconn to build autonomous electric tractors ...</td>\n",
       "      <td>Taiwan's Foxconn, the world's largest contract...</td>\n",
       "    </tr>\n",
       "  </tbody>\n",
       "</table>\n",
       "</div>"
      ],
      "text/plain": [
       "        출처                                                 제목  \\\n",
       "0  Reuters  U.S. Postal Service can't lick inflation, seek...   \n",
       "1  Reuters  U.S. SEC to propose new rule boosting hedge, p...   \n",
       "2  Reuters  Argentina's central bank likely to raise inter...   \n",
       "3  Reuters  Brazilian broker XP's profit gains from higher...   \n",
       "4  Reuters  Foxconn to build autonomous electric tractors ...   \n",
       "\n",
       "                                                  내용  \n",
       "0  Surging inflation will prompt the U.S. Postal ...  \n",
       "1  The U.S. Securities and Exchange Commission (S...  \n",
       "2  Argentina's central bank is likely to raise it...  \n",
       "3  XP (NASDAQ:XP) Inc posted a marginal jump in s...  \n",
       "4  Taiwan's Foxconn, the world's largest contract...  "
      ]
     },
     "execution_count": 15,
     "metadata": {},
     "output_type": "execute_result"
    }
   ],
   "source": [
    "data.head()"
   ]
  },
  {
   "cell_type": "code",
   "execution_count": 9,
   "metadata": {},
   "outputs": [
    {
     "data": {
      "text/plain": [
       "'Surging inflation will prompt the U.S. Postal Service to seek higher prices for stamps and other services in January, just five months after its recent hike, as it continues to lose money.\\nUSPS raised prices in July by about 6.5%, including increasing the price of a first-class stamp from 58 cents to 60 cents after hiking stamps by 3 cents in August 2021.\\nU.S. Postmaster General Louis DeJoy said Tuesday inflation would cause costs to exceed its 2022 budget plan \"by well over $1 billion.\" DeJoy said he plans to recommend to the Postal Board of Governors that USPS raise prices again in January.\\nDeJoy has said USPS for years had failed to charge enough for package and mail delivery.\\nUSPS on Tuesday booked a onetime, non-cash benefit of $59.6\\xa0billion after President Joe Biden signed financial relief legislation into law. It reported an adjusted loss of $459 million for the quarter, compared to an adjusted loss of $41 million for the same quarter last year. \\nDeJoy said the Postal Service is working to address some hiring issues but is having success in most areas as it has boosted full-time permanent staff.\\n\"This will enable us to rely less on seasonal employees, which we believe will prove difficult to hire this season,\" DeJoy said. \"We are still having trouble in hiring new letter carriers, especially in rural communities. We are employing new recruiting tactics.\"\\nStruggling with diminishing mail volumes despite having to deliver to a growing number of addresses, the USPS before Tuesday had reported net losses of more than $90 billion since 2007. The bill Biden signed in April repealed the USPS\\'s requirement that it annually prepay future retiree health benefits and canceled all past due prefunding obligations.\\nDeJoy released a March 2021 reform plan that aims to eliminate $160 billion in predicted losses over the next decade.\\n\\nDeJoy said despite reforms losses would still reach $60 billion to $70 billion over the next 10 years -- and USPS must address those losses.\\nUSPS is also set to receive $3 billion from Congress to boost electric vehicle and charging purchases. Last month, USPS said it plans to buy at least 25,000 EVs - more than twice its prior estimate.\\n \\n'"
      ]
     },
     "execution_count": 9,
     "metadata": {},
     "output_type": "execute_result"
    }
   ],
   "source": [
    "data['내용'][0]"
   ]
  },
  {
   "cell_type": "code",
   "execution_count": 21,
   "metadata": {},
   "outputs": [],
   "source": [
    "titles = []\n",
    "sen_list = []\n",
    "for i in range(len(data)) :\n",
    "    title = data.loc[i, '제목']\n",
    "    con_sent = data.loc[i,'내용']\n",
    "    sent = sent_tokenize(con_sent)\n",
    "    for j in range(len(sent)) :\n",
    "        titles.append(title)\n",
    "        sen_list.append(sent[j])\n",
    "         \n",
    "    "
   ]
  },
  {
   "cell_type": "code",
   "execution_count": 24,
   "metadata": {},
   "outputs": [
    {
     "name": "stdout",
     "output_type": "stream",
     "text": [
      "269913\n"
     ]
    },
    {
     "data": {
      "text/html": [
       "<div>\n",
       "<style scoped>\n",
       "    .dataframe tbody tr th:only-of-type {\n",
       "        vertical-align: middle;\n",
       "    }\n",
       "\n",
       "    .dataframe tbody tr th {\n",
       "        vertical-align: top;\n",
       "    }\n",
       "\n",
       "    .dataframe thead th {\n",
       "        text-align: right;\n",
       "    }\n",
       "</style>\n",
       "<table border=\"1\" class=\"dataframe\">\n",
       "  <thead>\n",
       "    <tr style=\"text-align: right;\">\n",
       "      <th></th>\n",
       "      <th>title</th>\n",
       "      <th>sentences</th>\n",
       "    </tr>\n",
       "  </thead>\n",
       "  <tbody>\n",
       "    <tr>\n",
       "      <th>0</th>\n",
       "      <td>U.S. Postal Service can't lick inflation, seek...</td>\n",
       "      <td>Surging inflation will prompt the U.S.</td>\n",
       "    </tr>\n",
       "    <tr>\n",
       "      <th>1</th>\n",
       "      <td>U.S. Postal Service can't lick inflation, seek...</td>\n",
       "      <td>Postal Service to seek higher prices for stamp...</td>\n",
       "    </tr>\n",
       "    <tr>\n",
       "      <th>2</th>\n",
       "      <td>U.S. Postal Service can't lick inflation, seek...</td>\n",
       "      <td>USPS raised prices in July by about 6.5%, incl...</td>\n",
       "    </tr>\n",
       "    <tr>\n",
       "      <th>3</th>\n",
       "      <td>U.S. Postal Service can't lick inflation, seek...</td>\n",
       "      <td>U.S. Postmaster General Louis DeJoy said Tuesd...</td>\n",
       "    </tr>\n",
       "    <tr>\n",
       "      <th>4</th>\n",
       "      <td>U.S. Postal Service can't lick inflation, seek...</td>\n",
       "      <td>DeJoy said he plans to recommend to the Postal...</td>\n",
       "    </tr>\n",
       "    <tr>\n",
       "      <th>...</th>\n",
       "      <td>...</td>\n",
       "      <td>...</td>\n",
       "    </tr>\n",
       "    <tr>\n",
       "      <th>269908</th>\n",
       "      <td>Hiring Plans at U.S. Small Businesses Rise to ...</td>\n",
       "      <td>At the same time 36%, the most since February,...</td>\n",
       "    </tr>\n",
       "    <tr>\n",
       "      <th>269909</th>\n",
       "      <td>Hiring Plans at U.S. Small Businesses Rise to ...</td>\n",
       "      <td>“Covid-19 restrictions and regulations put on ...</td>\n",
       "    </tr>\n",
       "    <tr>\n",
       "      <th>269910</th>\n",
       "      <td>Hiring Plans at U.S. Small Businesses Rise to ...</td>\n",
       "      <td>The survey points to ongoing, yet gradual, imp...</td>\n",
       "    </tr>\n",
       "    <tr>\n",
       "      <th>269911</th>\n",
       "      <td>Hiring Plans at U.S. Small Businesses Rise to ...</td>\n",
       "      <td>Still, millions of Americans remain jobless an...</td>\n",
       "    </tr>\n",
       "    <tr>\n",
       "      <th>269912</th>\n",
       "      <td>Hiring Plans at U.S. Small Businesses Rise to ...</td>\n",
       "      <td>The Labor Department on Friday will issue its ...</td>\n",
       "    </tr>\n",
       "  </tbody>\n",
       "</table>\n",
       "<p>269913 rows × 2 columns</p>\n",
       "</div>"
      ],
      "text/plain": [
       "                                                    title  \\\n",
       "0       U.S. Postal Service can't lick inflation, seek...   \n",
       "1       U.S. Postal Service can't lick inflation, seek...   \n",
       "2       U.S. Postal Service can't lick inflation, seek...   \n",
       "3       U.S. Postal Service can't lick inflation, seek...   \n",
       "4       U.S. Postal Service can't lick inflation, seek...   \n",
       "...                                                   ...   \n",
       "269908  Hiring Plans at U.S. Small Businesses Rise to ...   \n",
       "269909  Hiring Plans at U.S. Small Businesses Rise to ...   \n",
       "269910  Hiring Plans at U.S. Small Businesses Rise to ...   \n",
       "269911  Hiring Plans at U.S. Small Businesses Rise to ...   \n",
       "269912  Hiring Plans at U.S. Small Businesses Rise to ...   \n",
       "\n",
       "                                                sentences  \n",
       "0                  Surging inflation will prompt the U.S.  \n",
       "1       Postal Service to seek higher prices for stamp...  \n",
       "2       USPS raised prices in July by about 6.5%, incl...  \n",
       "3       U.S. Postmaster General Louis DeJoy said Tuesd...  \n",
       "4       DeJoy said he plans to recommend to the Postal...  \n",
       "...                                                   ...  \n",
       "269908  At the same time 36%, the most since February,...  \n",
       "269909  “Covid-19 restrictions and regulations put on ...  \n",
       "269910  The survey points to ongoing, yet gradual, imp...  \n",
       "269911  Still, millions of Americans remain jobless an...  \n",
       "269912  The Labor Department on Friday will issue its ...  \n",
       "\n",
       "[269913 rows x 2 columns]"
      ]
     },
     "execution_count": 24,
     "metadata": {},
     "output_type": "execute_result"
    }
   ],
   "source": [
    "test = pd.DataFrame()\n",
    "test['title'] = titles\n",
    "test['sentences'] = sen_list\n",
    "\n",
    "print(len(test))\n",
    "test"
   ]
  },
  {
   "cell_type": "code",
   "execution_count": 25,
   "metadata": {},
   "outputs": [],
   "source": [
    "test.to_csv('data/test_investing.csv', encoding='utf-8')"
   ]
  },
  {
   "cell_type": "code",
   "execution_count": null,
   "metadata": {},
   "outputs": [],
   "source": []
  }
 ],
 "metadata": {
  "kernelspec": {
   "display_name": "Python 3.7.13 64-bit ('goorm')",
   "language": "python",
   "name": "python3"
  },
  "language_info": {
   "codemirror_mode": {
    "name": "ipython",
    "version": 3
   },
   "file_extension": ".py",
   "mimetype": "text/x-python",
   "name": "python",
   "nbconvert_exporter": "python",
   "pygments_lexer": "ipython3",
   "version": "3.7.13"
  },
  "orig_nbformat": 4,
  "vscode": {
   "interpreter": {
    "hash": "c7c9af6041159dfe6c99c828ac23c7a151cdd31a3e0c79836f752ede52d58adc"
   }
  }
 },
 "nbformat": 4,
 "nbformat_minor": 2
}
